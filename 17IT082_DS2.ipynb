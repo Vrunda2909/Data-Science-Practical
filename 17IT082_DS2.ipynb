{
  "nbformat": 4,
  "nbformat_minor": 0,
  "metadata": {
    "colab": {
      "name": "17IT082_DS2.ipynb",
      "provenance": [],
      "collapsed_sections": []
    },
    "kernelspec": {
      "name": "python3",
      "display_name": "Python 3"
    }
  },
  "cells": [
    {
      "cell_type": "code",
      "metadata": {
        "id": "R4HEZH9oKSWt"
      },
      "source": [
        "import numpy as np\n",
        "import pandas as pd\n",
        "from sklearn.linear_model import LinearRegression\n",
        "from sklearn.feature_selection import RFE\n",
        "from sklearn.feature_selection import SelectFromModel\n",
        "from sklearn.linear_model import Ridge\n",
        "col_a = pd.Series(np.ones(50))\n",
        "col_b = pd.Series(np.ones(50))\n",
        "col_b[:5] = 0\n",
        "col_c = pd.Series(np.random.randint(20,30, size=50))\n",
        "features = pd.concat([col_a,col_b,col_c], axis=1)"
      ],
      "execution_count": null,
      "outputs": []
    },
    {
      "cell_type": "code",
      "metadata": {
        "id": "K_U9beV0Kg-i",
        "outputId": "b12f69bc-2f29-4d67-ae74-83fe11b29b1a",
        "colab": {
          "base_uri": "https://localhost:8080/",
          "height": 897
        }
      },
      "source": [
        "from sklearn.feature_selection import VarianceThreshold\n",
        "selector = VarianceThreshold(threshold=(0.1))\n",
        "selector.fit_transform(features)\n"
      ],
      "execution_count": null,
      "outputs": [
        {
          "output_type": "execute_result",
          "data": {
            "text/plain": [
              "array([[21.],\n",
              "       [28.],\n",
              "       [26.],\n",
              "       [21.],\n",
              "       [26.],\n",
              "       [28.],\n",
              "       [26.],\n",
              "       [24.],\n",
              "       [26.],\n",
              "       [20.],\n",
              "       [26.],\n",
              "       [20.],\n",
              "       [21.],\n",
              "       [21.],\n",
              "       [22.],\n",
              "       [26.],\n",
              "       [28.],\n",
              "       [20.],\n",
              "       [24.],\n",
              "       [28.],\n",
              "       [28.],\n",
              "       [21.],\n",
              "       [20.],\n",
              "       [24.],\n",
              "       [20.],\n",
              "       [29.],\n",
              "       [23.],\n",
              "       [27.],\n",
              "       [22.],\n",
              "       [21.],\n",
              "       [22.],\n",
              "       [24.],\n",
              "       [27.],\n",
              "       [22.],\n",
              "       [24.],\n",
              "       [27.],\n",
              "       [24.],\n",
              "       [29.],\n",
              "       [23.],\n",
              "       [20.],\n",
              "       [29.],\n",
              "       [22.],\n",
              "       [22.],\n",
              "       [21.],\n",
              "       [20.],\n",
              "       [27.],\n",
              "       [27.],\n",
              "       [22.],\n",
              "       [20.],\n",
              "       [26.]])"
            ]
          },
          "metadata": {
            "tags": []
          },
          "execution_count": 3
        }
      ]
    },
    {
      "cell_type": "code",
      "metadata": {
        "id": "tGDg02AoLJLM",
        "outputId": "10da9736-43d5-49d3-c854-a3f58dec3178",
        "colab": {
          "base_uri": "https://localhost:8080/",
          "height": 158
        }
      },
      "source": [
        "df = pd.read_csv(\"/content/train.csv\")\n",
        "X = df[['LotArea','YearBuilt','GrLivArea','TotRmsAbvGrd','OverallQual','OverallCond','TotalBsmtSF']]\n",
        "y = df['SalePrice']\n",
        "print (df.head())"
      ],
      "execution_count": null,
      "outputs": [
        {
          "output_type": "stream",
          "text": [
            "   Id  MSSubClass MSZoning  ...  SaleType  SaleCondition SalePrice\n",
            "0   1          60       RL  ...        WD         Normal    208500\n",
            "1   2          20       RL  ...        WD         Normal    181500\n",
            "2   3          60       RL  ...        WD         Normal    223500\n",
            "3   4          70       RL  ...        WD        Abnorml    140000\n",
            "4   5          60       RL  ...        WD         Normal    250000\n",
            "\n",
            "[5 rows x 81 columns]\n"
          ],
          "name": "stdout"
        }
      ]
    },
    {
      "cell_type": "code",
      "metadata": {
        "id": "vU2J8UDWLVYL",
        "outputId": "100c801b-0b2e-4a0f-b1dd-a3bb4e06396b",
        "colab": {
          "base_uri": "https://localhost:8080/",
          "height": 70
        }
      },
      "source": [
        "from sklearn.linear_model import LinearRegression\n",
        "from sklearn.feature_selection import RFE\n",
        "lr = LinearRegression()\n",
        "rfe = RFE(estimator=lr, n_features_to_select=4, step=1)\n",
        "rfe.fit(X, y)"
      ],
      "execution_count": null,
      "outputs": [
        {
          "output_type": "execute_result",
          "data": {
            "text/plain": [
              "RFE(estimator=LinearRegression(copy_X=True, fit_intercept=True, n_jobs=None,\n",
              "                               normalize=False),\n",
              "    n_features_to_select=4, step=1, verbose=0)"
            ]
          },
          "metadata": {
            "tags": []
          },
          "execution_count": 9
        }
      ]
    },
    {
      "cell_type": "code",
      "metadata": {
        "id": "MP_QNqcULbbQ",
        "outputId": "00141792-bd27-4df6-f015-bf3ab27e80fd",
        "colab": {
          "base_uri": "https://localhost:8080/",
          "height": 195
        }
      },
      "source": [
        "from sklearn.feature_selection import SelectFromModel\n",
        "from sklearn.linear_model import Ridge\n",
        "ridge = Ridge().fit(X, y)\n",
        "model = SelectFromModel(ridge, prefit=True, threshold='mean')\n",
        "X_transformed = model.transform(X)\n",
        "X[:5]"
      ],
      "execution_count": null,
      "outputs": [
        {
          "output_type": "execute_result",
          "data": {
            "text/html": [
              "<div>\n",
              "<style scoped>\n",
              "    .dataframe tbody tr th:only-of-type {\n",
              "        vertical-align: middle;\n",
              "    }\n",
              "\n",
              "    .dataframe tbody tr th {\n",
              "        vertical-align: top;\n",
              "    }\n",
              "\n",
              "    .dataframe thead th {\n",
              "        text-align: right;\n",
              "    }\n",
              "</style>\n",
              "<table border=\"1\" class=\"dataframe\">\n",
              "  <thead>\n",
              "    <tr style=\"text-align: right;\">\n",
              "      <th></th>\n",
              "      <th>LotArea</th>\n",
              "      <th>YearBuilt</th>\n",
              "      <th>GrLivArea</th>\n",
              "      <th>TotRmsAbvGrd</th>\n",
              "      <th>OverallQual</th>\n",
              "      <th>OverallCond</th>\n",
              "      <th>TotalBsmtSF</th>\n",
              "    </tr>\n",
              "  </thead>\n",
              "  <tbody>\n",
              "    <tr>\n",
              "      <th>0</th>\n",
              "      <td>8450</td>\n",
              "      <td>2003</td>\n",
              "      <td>1710</td>\n",
              "      <td>8</td>\n",
              "      <td>7</td>\n",
              "      <td>5</td>\n",
              "      <td>856</td>\n",
              "    </tr>\n",
              "    <tr>\n",
              "      <th>1</th>\n",
              "      <td>9600</td>\n",
              "      <td>1976</td>\n",
              "      <td>1262</td>\n",
              "      <td>6</td>\n",
              "      <td>6</td>\n",
              "      <td>8</td>\n",
              "      <td>1262</td>\n",
              "    </tr>\n",
              "    <tr>\n",
              "      <th>2</th>\n",
              "      <td>11250</td>\n",
              "      <td>2001</td>\n",
              "      <td>1786</td>\n",
              "      <td>6</td>\n",
              "      <td>7</td>\n",
              "      <td>5</td>\n",
              "      <td>920</td>\n",
              "    </tr>\n",
              "    <tr>\n",
              "      <th>3</th>\n",
              "      <td>9550</td>\n",
              "      <td>1915</td>\n",
              "      <td>1717</td>\n",
              "      <td>7</td>\n",
              "      <td>7</td>\n",
              "      <td>5</td>\n",
              "      <td>756</td>\n",
              "    </tr>\n",
              "    <tr>\n",
              "      <th>4</th>\n",
              "      <td>14260</td>\n",
              "      <td>2000</td>\n",
              "      <td>2198</td>\n",
              "      <td>9</td>\n",
              "      <td>8</td>\n",
              "      <td>5</td>\n",
              "      <td>1145</td>\n",
              "    </tr>\n",
              "  </tbody>\n",
              "</table>\n",
              "</div>"
            ],
            "text/plain": [
              "   LotArea  YearBuilt  GrLivArea  ...  OverallQual  OverallCond  TotalBsmtSF\n",
              "0     8450       2003       1710  ...            7            5          856\n",
              "1     9600       1976       1262  ...            6            8         1262\n",
              "2    11250       2001       1786  ...            7            5          920\n",
              "3     9550       1915       1717  ...            7            5          756\n",
              "4    14260       2000       2198  ...            8            5         1145\n",
              "\n",
              "[5 rows x 7 columns]"
            ]
          },
          "metadata": {
            "tags": []
          },
          "execution_count": 11
        }
      ]
    }
  ]
}